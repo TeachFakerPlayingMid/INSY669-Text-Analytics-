{
 "cells": [
  {
   "cell_type": "code",
   "execution_count": 1,
   "id": "54969946",
   "metadata": {},
   "outputs": [],
   "source": [
    "#!/usr/bin/env python3\n",
    "# -*- coding: utf-8 -*-\n",
    "from bs4 import BeautifulSoup # documentation available at : www.crummy.com/software/BeautifulSoup/bs4/doc/\n",
    "import requests # sends http requests and access the page : docs.python-requests.org/en/latest/\n",
    "import csv # creates the output csv file\n",
    "#import unicodedata # works with string encoding of the data"
   ]
  },
  {
   "cell_type": "code",
   "execution_count": 4,
   "id": "938c9cd6",
   "metadata": {},
   "outputs": [
    {
     "name": "stdout",
     "output_type": "stream",
     "text": [
      "Wrote to edmunds_extraction.csv\n"
     ]
    }
   ],
   "source": [
    "entries = []\n",
    "entry = []\n",
    "urlnumber = 2 # Give the page number to start with\n",
    "\n",
    "\n",
    "while urlnumber < 110: # Give the page number to end with\n",
    "\n",
    "    url = 'http://forums.edmunds.com/discussion/2864/general/x/entry-level-luxury-performance-sedans/p%d' % (urlnumber,) # Give the url of the forum, excluding the page number in the hyperlink\n",
    "\n",
    "    try:\n",
    "        r = requests.get(url, timeout = 10) # Sending a request to access the page\n",
    "    except Exception as e:\n",
    "        print(\"Error message:\",e)\n",
    "        break;\n",
    "\n",
    "    data = r.text\n",
    "    \n",
    "    soup = BeautifulSoup(data, 'lxml') # Getting the page source into the soup\n",
    "    \n",
    "    for div in soup.find_all('div'):\n",
    "        entry = []\n",
    "        if(div.get('class') != None and div.get('class')[0] == 'Comment'): # A single post is referred to as a comment. Each comment is a block denoted in a div tag which has a class called comment.\n",
    "            ps = div.find_all('p') # gets all the tags called p to a variable ps\n",
    "            aas = div.find_all('a') # gets all the tags called a to a variable aas\n",
    "            spans = div.find_all('span')\n",
    "            times = div.find_all('time') # used to extract the time tag which gives the iDate of the post\n",
    "\n",
    "            concat_str = ''\n",
    "            for str in aas[1].contents: # prints the contents that is between the tag start and end\n",
    "                if str != \"<br>\" or str != \"<br/>\": # breaks in post which we need to work around\n",
    "                    concat_str = (concat_str + ' '+ str).encode(\"utf-8\").strip() # the format extracted is a unicode - we need a uniform structure to work with the strings\n",
    "            entry.append(concat_str)\n",
    "\n",
    "            concat_str = ''\n",
    "            for str in times[0].contents:\n",
    "                if str != \"<br>\" or str != \"<br/>\":\n",
    "                    concat_str = (concat_str + ' '+ str).encode('iso-8859-1').strip()\n",
    "            entry.append(concat_str)\n",
    "\n",
    "            for div in div.find_all('div'):\n",
    "                if (div.get('class') != None and div.get('class')[0] == 'Message'): # extracting the div tag with the class attribute as message\n",
    "                    blockquotes = []\n",
    "                    x = div.get_text()\n",
    "                    for bl in div.find_all('blockquote'):\n",
    "                        blockquotes.append(bl.get_text()) # block quote is used to get the quote made by a person. get_text helps to eliminate the hyperlinks and pulls out only the data.\n",
    "                        bl.decompose()\n",
    "                    # Encoding the text to ascii code by replacing the non-ascii characters\n",
    "                    ascii_encoding = div.get_text().replace(\"\\n\",\" \").replace(\"<br/>\",\"\").encode('ascii','replace')\n",
    "                    # Convert the ASCII encoding to Latin1 encoding\n",
    "                    latin1_encoding = ascii_encoding.decode('ascii').encode('iso-8859-1')\n",
    "                    # Append the encoding bytes to output list\n",
    "                    entry.append(latin1_encoding)\n",
    "\n",
    "                    for bl in blockquotes:\n",
    "                        ascii_encoding = bl.replace(\"\\n\",\" \").replace(\"<br/>\",\"\").encode('ascii','replace')\n",
    "                        latin1_encoding = ascii_encoding.decode('ascii').encode('iso-8859-1')\n",
    "                        entry.append(latin1_encoding)\n",
    "\n",
    "            entries.append(entry)\n",
    "            \n",
    "    urlnumber += 1\n",
    "\n",
    "# Convert a list of byte to list a of string     \n",
    "stringlist=[[x.decode('iso-8859-1') for x in entry] for entry in entries]\n",
    "# Save the list to a csv file\n",
    "with open('edmunds_extraction.csv', 'w') as output:\n",
    "    writer = csv.writer(output, quoting=csv.QUOTE_ALL)\n",
    "    writer.writerows(stringlist)\n",
    "\n",
    "print (\"Wrote to edmunds_extraction.csv\")"
   ]
  },
  {
   "cell_type": "markdown",
   "id": "940f39e6",
   "metadata": {},
   "source": [
    "### Task A: Identify top 10 brands by frequency. From the posts, calculate lift ratios for associations between the brands. You will have to write a script to do this task. Show the brands on a multidimensional scaling (MDS) map. "
   ]
  },
  {
   "cell_type": "code",
   "execution_count": 5,
   "id": "9f354df9",
   "metadata": {},
   "outputs": [],
   "source": [
    "import warnings\n",
    "warnings.filterwarnings(\"ignore\")\n",
    "import pandas as pd\n",
    "import numpy as np\n",
    "import matplotlib.pyplot as plt\n",
    "from sklearn.feature_extraction.text import CountVectorizer\n",
    "from sklearn.manifold import MDS\n",
    "import re"
   ]
  },
  {
   "cell_type": "code",
   "execution_count": 6,
   "id": "fb2a44c3",
   "metadata": {},
   "outputs": [],
   "source": [
    "import spacy\n",
    "import spacy.cli?\n",
    "# spacy.cli.download(\"en_core_web_sm\")\n",
    "from spacy.lang.en import stop_words"
   ]
  },
  {
   "cell_type": "code",
   "execution_count": 7,
   "id": "afe96d09",
   "metadata": {},
   "outputs": [],
   "source": [
    "import os\n",
    "os.chdir(r'/Users/yanhuanhuang/Desktop/MMA/INSY669-Text Analytics/Group Project')"
   ]
  },
  {
   "cell_type": "code",
   "execution_count": 8,
   "id": "f7eb6ee1",
   "metadata": {},
   "outputs": [],
   "source": [
    "# Documents\n",
    "documents = pd.read_csv('edmunds_extraction.csv', header=None)"
   ]
  },
  {
   "cell_type": "code",
   "execution_count": 9,
   "id": "3604cec8",
   "metadata": {},
   "outputs": [
    {
     "data": {
      "text/html": [
       "<div>\n",
       "<style scoped>\n",
       "    .dataframe tbody tr th:only-of-type {\n",
       "        vertical-align: middle;\n",
       "    }\n",
       "\n",
       "    .dataframe tbody tr th {\n",
       "        vertical-align: top;\n",
       "    }\n",
       "\n",
       "    .dataframe thead th {\n",
       "        text-align: right;\n",
       "    }\n",
       "</style>\n",
       "<table border=\"1\" class=\"dataframe\">\n",
       "  <thead>\n",
       "    <tr style=\"text-align: right;\">\n",
       "      <th></th>\n",
       "      <th>0</th>\n",
       "      <th>1</th>\n",
       "      <th>2</th>\n",
       "    </tr>\n",
       "  </thead>\n",
       "  <tbody>\n",
       "    <tr>\n",
       "      <th>0</th>\n",
       "      <td>wishnhigh1</td>\n",
       "      <td>April 2002</td>\n",
       "      <td>The problem is that they are HUGE generalizat...</td>\n",
       "    </tr>\n",
       "    <tr>\n",
       "      <th>1</th>\n",
       "      <td>kd6aw1</td>\n",
       "      <td>April 2002</td>\n",
       "      <td>Have found out that with some of the more pow...</td>\n",
       "    </tr>\n",
       "    <tr>\n",
       "      <th>2</th>\n",
       "      <td>fwatson</td>\n",
       "      <td>April 2002</td>\n",
       "      <td>How does your theory explain English cars? A ...</td>\n",
       "    </tr>\n",
       "    <tr>\n",
       "      <th>3</th>\n",
       "      <td>dave330i</td>\n",
       "      <td>April 2002</td>\n",
       "      <td>\"Being that it is an automatic I can enjoy my...</td>\n",
       "    </tr>\n",
       "    <tr>\n",
       "      <th>4</th>\n",
       "      <td>blueguydotcom</td>\n",
       "      <td>April 2002</td>\n",
       "      <td>He did mention \"in rush hour traffic.\" Like t...</td>\n",
       "    </tr>\n",
       "    <tr>\n",
       "      <th>...</th>\n",
       "      <td>...</td>\n",
       "      <td>...</td>\n",
       "      <td>...</td>\n",
       "    </tr>\n",
       "    <tr>\n",
       "      <th>5395</th>\n",
       "      <td>qbrozen</td>\n",
       "      <td>August 2006</td>\n",
       "      <td>will of course vary greatly depending on wher...</td>\n",
       "    </tr>\n",
       "    <tr>\n",
       "      <th>5396</th>\n",
       "      <td>habitat1</td>\n",
       "      <td>August 2006</td>\n",
       "      <td>Yes. in 2003 I bought my 330i ZHP off a lot.....</td>\n",
       "    </tr>\n",
       "    <tr>\n",
       "      <th>5397</th>\n",
       "      <td>blueguydotcom</td>\n",
       "      <td>August 2006</td>\n",
       "      <td>No, I bought my ZHP off the lot in 2003 - I p...</td>\n",
       "    </tr>\n",
       "    <tr>\n",
       "      <th>5398</th>\n",
       "      <td>habitat1</td>\n",
       "      <td>August 2006</td>\n",
       "      <td>No, I bought my ZHP off the lot in 2003 - I p...</td>\n",
       "    </tr>\n",
       "    <tr>\n",
       "      <th>5399</th>\n",
       "      <td>blueguydotcom</td>\n",
       "      <td>August 2006</td>\n",
       "      <td>You got a great deal and the best that ED wou...</td>\n",
       "    </tr>\n",
       "  </tbody>\n",
       "</table>\n",
       "<p>5400 rows × 3 columns</p>\n",
       "</div>"
      ],
      "text/plain": [
       "                  0            1  \\\n",
       "0        wishnhigh1   April 2002   \n",
       "1            kd6aw1   April 2002   \n",
       "2           fwatson   April 2002   \n",
       "3          dave330i   April 2002   \n",
       "4     blueguydotcom   April 2002   \n",
       "...             ...          ...   \n",
       "5395        qbrozen  August 2006   \n",
       "5396       habitat1  August 2006   \n",
       "5397  blueguydotcom  August 2006   \n",
       "5398       habitat1  August 2006   \n",
       "5399  blueguydotcom  August 2006   \n",
       "\n",
       "                                                      2  \n",
       "0      The problem is that they are HUGE generalizat...  \n",
       "1      Have found out that with some of the more pow...  \n",
       "2      How does your theory explain English cars? A ...  \n",
       "3      \"Being that it is an automatic I can enjoy my...  \n",
       "4      He did mention \"in rush hour traffic.\" Like t...  \n",
       "...                                                 ...  \n",
       "5395   will of course vary greatly depending on wher...  \n",
       "5396   Yes. in 2003 I bought my 330i ZHP off a lot.....  \n",
       "5397   No, I bought my ZHP off the lot in 2003 - I p...  \n",
       "5398   No, I bought my ZHP off the lot in 2003 - I p...  \n",
       "5399   You got a great deal and the best that ED wou...  \n",
       "\n",
       "[5400 rows x 3 columns]"
      ]
     },
     "execution_count": 9,
     "metadata": {},
     "output_type": "execute_result"
    }
   ],
   "source": [
    "documents"
   ]
  },
  {
   "cell_type": "code",
   "execution_count": 10,
   "id": "c9b9a9de",
   "metadata": {},
   "outputs": [],
   "source": [
    "column_names = [\"users\", \"time\", \"txt\"]"
   ]
  },
  {
   "cell_type": "code",
   "execution_count": 11,
   "id": "b47f0d0f",
   "metadata": {},
   "outputs": [
    {
     "data": {
      "text/html": [
       "<div>\n",
       "<style scoped>\n",
       "    .dataframe tbody tr th:only-of-type {\n",
       "        vertical-align: middle;\n",
       "    }\n",
       "\n",
       "    .dataframe tbody tr th {\n",
       "        vertical-align: top;\n",
       "    }\n",
       "\n",
       "    .dataframe thead th {\n",
       "        text-align: right;\n",
       "    }\n",
       "</style>\n",
       "<table border=\"1\" class=\"dataframe\">\n",
       "  <thead>\n",
       "    <tr style=\"text-align: right;\">\n",
       "      <th></th>\n",
       "      <th>users</th>\n",
       "      <th>time</th>\n",
       "      <th>txt</th>\n",
       "    </tr>\n",
       "  </thead>\n",
       "  <tbody>\n",
       "    <tr>\n",
       "      <th>0</th>\n",
       "      <td>wishnhigh1</td>\n",
       "      <td>April 2002</td>\n",
       "      <td>The problem is that they are HUGE generalizat...</td>\n",
       "    </tr>\n",
       "    <tr>\n",
       "      <th>1</th>\n",
       "      <td>kd6aw1</td>\n",
       "      <td>April 2002</td>\n",
       "      <td>Have found out that with some of the more pow...</td>\n",
       "    </tr>\n",
       "    <tr>\n",
       "      <th>2</th>\n",
       "      <td>fwatson</td>\n",
       "      <td>April 2002</td>\n",
       "      <td>How does your theory explain English cars? A ...</td>\n",
       "    </tr>\n",
       "    <tr>\n",
       "      <th>3</th>\n",
       "      <td>dave330i</td>\n",
       "      <td>April 2002</td>\n",
       "      <td>\"Being that it is an automatic I can enjoy my...</td>\n",
       "    </tr>\n",
       "    <tr>\n",
       "      <th>4</th>\n",
       "      <td>blueguydotcom</td>\n",
       "      <td>April 2002</td>\n",
       "      <td>He did mention \"in rush hour traffic.\" Like t...</td>\n",
       "    </tr>\n",
       "    <tr>\n",
       "      <th>...</th>\n",
       "      <td>...</td>\n",
       "      <td>...</td>\n",
       "      <td>...</td>\n",
       "    </tr>\n",
       "    <tr>\n",
       "      <th>5395</th>\n",
       "      <td>qbrozen</td>\n",
       "      <td>August 2006</td>\n",
       "      <td>will of course vary greatly depending on wher...</td>\n",
       "    </tr>\n",
       "    <tr>\n",
       "      <th>5396</th>\n",
       "      <td>habitat1</td>\n",
       "      <td>August 2006</td>\n",
       "      <td>Yes. in 2003 I bought my 330i ZHP off a lot.....</td>\n",
       "    </tr>\n",
       "    <tr>\n",
       "      <th>5397</th>\n",
       "      <td>blueguydotcom</td>\n",
       "      <td>August 2006</td>\n",
       "      <td>No, I bought my ZHP off the lot in 2003 - I p...</td>\n",
       "    </tr>\n",
       "    <tr>\n",
       "      <th>5398</th>\n",
       "      <td>habitat1</td>\n",
       "      <td>August 2006</td>\n",
       "      <td>No, I bought my ZHP off the lot in 2003 - I p...</td>\n",
       "    </tr>\n",
       "    <tr>\n",
       "      <th>5399</th>\n",
       "      <td>blueguydotcom</td>\n",
       "      <td>August 2006</td>\n",
       "      <td>You got a great deal and the best that ED wou...</td>\n",
       "    </tr>\n",
       "  </tbody>\n",
       "</table>\n",
       "<p>5400 rows × 3 columns</p>\n",
       "</div>"
      ],
      "text/plain": [
       "              users         time  \\\n",
       "0        wishnhigh1   April 2002   \n",
       "1            kd6aw1   April 2002   \n",
       "2           fwatson   April 2002   \n",
       "3          dave330i   April 2002   \n",
       "4     blueguydotcom   April 2002   \n",
       "...             ...          ...   \n",
       "5395        qbrozen  August 2006   \n",
       "5396       habitat1  August 2006   \n",
       "5397  blueguydotcom  August 2006   \n",
       "5398       habitat1  August 2006   \n",
       "5399  blueguydotcom  August 2006   \n",
       "\n",
       "                                                    txt  \n",
       "0      The problem is that they are HUGE generalizat...  \n",
       "1      Have found out that with some of the more pow...  \n",
       "2      How does your theory explain English cars? A ...  \n",
       "3      \"Being that it is an automatic I can enjoy my...  \n",
       "4      He did mention \"in rush hour traffic.\" Like t...  \n",
       "...                                                 ...  \n",
       "5395   will of course vary greatly depending on wher...  \n",
       "5396   Yes. in 2003 I bought my 330i ZHP off a lot.....  \n",
       "5397   No, I bought my ZHP off the lot in 2003 - I p...  \n",
       "5398   No, I bought my ZHP off the lot in 2003 - I p...  \n",
       "5399   You got a great deal and the best that ED wou...  \n",
       "\n",
       "[5400 rows x 3 columns]"
      ]
     },
     "execution_count": 11,
     "metadata": {},
     "output_type": "execute_result"
    }
   ],
   "source": [
    "documents.columns = column_names\n",
    "documents"
   ]
  },
  {
   "cell_type": "code",
   "execution_count": 12,
   "id": "401a790a",
   "metadata": {},
   "outputs": [],
   "source": [
    "# Clean Text\n",
    "nlp = spacy.load('en_core_web_sm')\n",
    "def clean_text(x): # x is a document\n",
    "    # conver to lower case \n",
    "    x = x.lower()\n",
    "    # remove new line\n",
    "    x = re.sub(r'\\n', ' ', x)\n",
    "    # remove link\n",
    "    x = re.sub(r\"https?://[^\\s]+\", \"\", x)\n",
    "    # remove name twitter tag\n",
    "    x = re.sub(r'@[A-Za-z0-9\\_]+', ' ', x) \n",
    "    # remove name hashtag tag\n",
    "    x = re.sub(r'\\#[A-Za-z0-9\\_]+', ' ', x) \n",
    "    # remove specific word - southwest OR airline\n",
    "    x = re.sub('southwest|airline', ' ', x)\n",
    "    # lemmatization\n",
    "    x = ' '.join([token.lemma_ for token in nlp(x)])\n",
    "    # remove multiple space\n",
    "    x = re.sub(r' +', ' ', x)\n",
    "    # remove space before and after the text\n",
    "    x = x.strip()\n",
    "    return x"
   ]
  },
  {
   "cell_type": "code",
   "execution_count": 13,
   "id": "16d1bb57",
   "metadata": {},
   "outputs": [],
   "source": [
    "# Convert documents into a list\n",
    "all_documents = documents['txt'].tolist()"
   ]
  },
  {
   "cell_type": "code",
   "execution_count": 23,
   "id": "e60e7c90",
   "metadata": {},
   "outputs": [],
   "source": [
    "#all_documents"
   ]
  },
  {
   "cell_type": "code",
   "execution_count": 15,
   "id": "9e156b74",
   "metadata": {},
   "outputs": [],
   "source": [
    "# Initialize the CountVectorizer to transform the text data into a bag-of-words model only for the top 10 most frequent brands, do the MDS for those words\n",
    "vectorizer = CountVectorizer(brands=list(stop_words.STOP_WORDS), # stopwords in NLTK is more complete than Sklearn, https://gist.github.com/sebleier/554280\n",
    "                             max_features=10, # include only the top 10 words\n",
    "                             preprocessor=clean_text,\n",
    "                             token_pattern='[a-zA-Z0-9]{3,}') # include words with more than 3 characters "
   ]
  },
  {
   "cell_type": "code",
   "execution_count": 16,
   "id": "f037c017",
   "metadata": {},
   "outputs": [],
   "source": [
    "# Transform the documents into a document-term matrix\n",
    "dtm = vectorizer.fit_transform(all_documents)"
   ]
  },
  {
   "cell_type": "code",
   "execution_count": 17,
   "id": "1f29547d",
   "metadata": {},
   "outputs": [],
   "source": [
    "# Extract feature names (non-stopwords)\n",
    "feature_names = vectorizer.get_feature_names_out()\n",
    "# create an array that represent document by terms"
   ]
  },
  {
   "cell_type": "code",
   "execution_count": 18,
   "id": "bd8580fc",
   "metadata": {},
   "outputs": [],
   "source": [
    "# Convert the document-term matrix to a dense array\n",
    "dtm_array = dtm.toarray()"
   ]
  },
  {
   "cell_type": "code",
   "execution_count": 19,
   "id": "b1625b3d",
   "metadata": {},
   "outputs": [],
   "source": [
    "# Calculate lift between terms\n",
    "term_lift = np.dot(dtm_array.T, dtm_array)\n",
    "term_occurrence = np.sum(dtm_array, axis=0)\n",
    "# + 1e-8 is added to avoid division by zero\n",
    "lift_matrix = term_lift / (np.outer(term_occurrence, term_occurrence) + 1e-8)"
   ]
  },
  {
   "cell_type": "code",
   "execution_count": 20,
   "id": "e07d4481",
   "metadata": {},
   "outputs": [
    {
     "name": "stdout",
     "output_type": "stream",
     "text": [
      "[[ 844.55764625 2832.73565077 2627.39447732 2559.10603589 2627.15617334\n",
      "  2821.91266913 2621.87354086 2448.29252438 2867.70940171 2861.96460177]\n",
      " [2832.73565077 1477.6761735  2463.21185475 3260.21083455 2209.09857108\n",
      "  2701.37287433 2981.91893998 3047.61805226 3181.08587786 2833.64421998]\n",
      " [2627.39447732 2463.21185475  928.68281654 2786.81152263 2669.36720554\n",
      "  2391.05263158 2590.18165628 2780.8050171  3348.33025099 2782.02753623]\n",
      " [2559.10603589 3260.21083455 2786.81152263  557.8466704  2908.47863248\n",
      "  2766.39468691 2314.53513514 2740.46564885 1739.49184149 2733.50906892]\n",
      " [2627.15617334 2209.09857108 2669.36720554 2908.47863248  697.43695797\n",
      "  2596.51304348 2363.8787062  3142.26923077 2773.90562613 2673.26327945]\n",
      " [2821.91266913 2701.37287433 2391.05263158 2766.39468691 2596.51304348\n",
      "   995.15169195 1804.64337176 2648.30390921 3228.8535503  2933.50931677]\n",
      " [2621.87354086 2981.91893998 2590.18165628 2314.53513514 2363.8787062\n",
      "  1804.64337176  573.6331384  1980.13001605 2584.96169355 2445.86020151]\n",
      " [2448.29252438 3047.61805226 2780.8050171  2740.46564885 3142.26923077\n",
      "  2648.30390921 1980.13001605  539.53521127 2721.44050633 3295.98582996]\n",
      " [2867.70940171 3181.08587786 3348.33025099 1739.49184149 2773.90562613\n",
      "  3228.8535503  2584.96169355 2721.44050633  549.55681259 3324.66994106]\n",
      " [2861.96460177 2833.64421998 2782.02753623 2733.50906892 2673.26327945\n",
      "  2933.50931677 2445.86020151 3295.98582996 3324.66994106  921.02084082]]\n"
     ]
    }
   ],
   "source": [
    "# Calculate dissimilarity matrix based on lift\n",
    "dissimilarity_matrix = 1 / lift_matrix\n",
    "print(dissimilarity_matrix)"
   ]
  },
  {
   "cell_type": "code",
   "execution_count": 21,
   "id": "814653cc",
   "metadata": {},
   "outputs": [],
   "source": [
    "# Apply MDS to reduce dimensionality to 2D\n",
    "mds = MDS(n_components=2, dissimilarity='precomputed', random_state=42) \n",
    "# create two components for each of the feature/word we have\n",
    "mds_result = mds.fit_transform(dissimilarity_matrix)"
   ]
  },
  {
   "cell_type": "code",
   "execution_count": 22,
   "id": "fa1aded4",
   "metadata": {},
   "outputs": [
    {
     "data": {
      "image/png": "[encoded data removed]",
      "text/plain": [
       "<Figure size 640x480 with 1 Axes>"
      ]
     },
     "metadata": {},
     "output_type": "display_data"
    }
   ],
   "source": [
    "# Plot the MDS result\n",
    "plt.scatter(mds_result[:, 0], mds_result[:, 1])\n",
    "\n",
    "# Annotate points with feature names\n",
    "for i, txt in enumerate(feature_names):\n",
    "    plt.annotate(txt, (mds_result[i, 0], mds_result[i, 1]))\n",
    "\n",
    "plt.title('MDS Plot based on Lift for Non-stopwords')\n",
    "plt.xlabel('MDS Dimension 1')\n",
    "plt.ylabel('MDS Dimension 2')\n",
    "plt.show()"
   ]
  },
  {
   "cell_type": "code",
   "execution_count": null,
   "id": "9476f465",
   "metadata": {},
   "outputs": [],
   "source": []
  }
 ],
 "metadata": {
  "kernelspec": {
   "display_name": "Python 3 (ipykernel)",
   "language": "python",
   "name": "python3"
  },
  "language_info": {
   "codemirror_mode": {
    "name": "ipython",
    "version": 3
   },
   "file_extension": ".py",
   "mimetype": "text/x-python",
   "name": "python",
   "nbconvert_exporter": "python",
   "pygments_lexer": "ipython3",
   "version": "3.11.5"
  }
 },
 "nbformat": 4,
 "nbformat_minor": 5
}
